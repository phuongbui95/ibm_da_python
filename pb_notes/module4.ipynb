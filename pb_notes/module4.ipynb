{
 "cells": [
  {
   "attachments": {},
   "cell_type": "markdown",
   "metadata": {},
   "source": [
    "# Module 4: Model Development"
   ]
  },
  {
   "attachments": {},
   "cell_type": "markdown",
   "metadata": {},
   "source": [
    "## Linear Regression and Multiple Linear Regression\n",
    "\n",
    "+ Linear Regression: refer to 1 variable to make a prediction\n",
    "+ Multiple Linear Regression: refer to multiple variables to make a prediction"
   ]
  },
  {
   "attachments": {},
   "cell_type": "markdown",
   "metadata": {},
   "source": [
    "### Fitting a simple Linear model estimator\n",
    "\n",
    "+ x: predictor variable => df[['columnName']]<br>\n",
    "+ y: target variable => df['valueName']\n",
    "\n",
    "1. Import linear_model from scikit-learn<br>\n",
    "<code>from sklearn.linear_model import LinearRegression</code>\n",
    "2. Create a Linear regression Object using the constructor:<br>\n",
    "<code>lm=LinearRegression()</code>"
   ]
  },
  {
   "attachments": {},
   "cell_type": "markdown",
   "metadata": {},
   "source": [
    "### Multiple Linear Regression:\n",
    "\n",
    "This method is used to explain the relationship between:\n",
    "+ One continuous target (Y) variable\n",
    "+ Two or more predictor (X) variables\n",
    "\n",
    "#### Fitting a estimator\n",
    "1. We can extract 4 predictor variables and store them in a variable Z:<br>\n",
    "<code>Z = df[['columnName1','columnName2','columnName3','columnName4']]</code>\n",
    "2. Then train the model as before:<br>\n",
    "<code>lm.fit(Z, df['valueName'])</code>\n",
    "3. We can also obtain a prediction:<br>\n",
    "<code>Yhat = lm.predcit(X)</code>"
   ]
  },
  {
   "attachments": {},
   "cell_type": "markdown",
   "metadata": {},
   "source": [
    "## Model Evaluation using Visualization"
   ]
  },
  {
   "attachments": {},
   "cell_type": "markdown",
   "metadata": {},
   "source": [
    "### Regression Plot<br>\n",
    "Giving a good estimate of:\n",
    "1. The relationship between 2 variables\n",
    "2. The strength of correlation\n",
    "3. The direction of the relationship (positive or negative)"
   ]
  },
  {
   "attachments": {},
   "cell_type": "markdown",
   "metadata": {},
   "source": [
    "Using Python library: <b>seaborn</b><br>\n",
    "<code>import seaborn as sns</code><br>\n",
    "<code>sns.regplot(x=\"columnName\", y=\"valueName\", data=df)<br>\n",
    "plt.ylim(0,)</code>"
   ]
  },
  {
   "attachments": {},
   "cell_type": "markdown",
   "metadata": {},
   "source": [
    "### Residual Plot\n",
    "+ Represent the error between the actual values.\n",
    "+ See the difference between predicted values & actual ones by substracting each other.\n",
    "    + Plot the x axis with the independent variables as the y axis.\n",
    "    + Expect to see the results to have zero mean and be distributed evenly around the x axis with similar variance."
   ]
  },
  {
   "attachments": {},
   "cell_type": "markdown",
   "metadata": {},
   "source": [
    "<code>import seaborn as sns</code><br>\n",
    "<code>sns.resiplot(df['columnName'], df['valueName'])</code>"
   ]
  },
  {
   "attachments": {},
   "cell_type": "markdown",
   "metadata": {},
   "source": [
    "### Distribution Plots<br>\n",
    "<code>import seaborn as sns<br>\n",
    "axl = sns.distplot(df['valueName'], hist=False, color=\"r\", label=\"Actual Value\")<br>\n",
    "sns.distplot(Yhat, hist=False, color=\"b\", label=\"Fitted Value\", ax=axl)</code>"
   ]
  },
  {
   "attachments": {},
   "cell_type": "markdown",
   "metadata": {},
   "source": [
    "## Polynomial Regression and Pipelines"
   ]
  },
  {
   "attachments": {},
   "cell_type": "markdown",
   "metadata": {},
   "source": [
    "### Polynomial Regressions\n",
    "+ A special case of the general linear regression model\n",
    "+ Useful for describing curvilinear relationships\n",
    "<br>\n",
    "\n",
    "<b>Curvilinear relationships:</b>\n",
    "By squaring or setting higher-order terms of the predictor variables"
   ]
  },
  {
   "attachments": {},
   "cell_type": "markdown",
   "metadata": {},
   "source": [
    "Calculate Polynomial of 3rd order<br>\n",
    "<code>f=np.polyfit(x,y,3)<br>\n",
    "p=np.poly1d(f)</code>"
   ]
  },
  {
   "attachments": {},
   "cell_type": "markdown",
   "metadata": {},
   "source": [
    "#### Polynomial Regression with More than 1 dimension<br>\n",
    "The \"preprocessing\" library in scikit-learn,<br>\n",
    "<code>from sklearn.preprocessing import PolynomialFeatures<br>\n",
    "pr=PolynomialFeatures(degree=2, include_bias=False)<br>\n",
    "x_polly=pr.fit_transform(x[['columnName1', 'columnName2']])</code><br>\n",
    "\n",
    "Normalize each feature simultaneously<br>\n",
    "<code>form sklearn.preprocessing import StandardScaler<br>\n",
    "SCALE=StandardScaler()<br>\n",
    "SCALE.fit(x_data[['columnName1','columnName2']])<br>\n",
    "x_scale=SCALE.transform(x_data[['columnName1','columnName2']])</code>\n"
   ]
  },
  {
   "attachments": {},
   "cell_type": "markdown",
   "metadata": {},
   "source": [
    "### Pipelines<br>\n",
    "Normalization => Polynomial transform => Linear Regression<br>\n",
    "<code>\n",
    "from sklearn.preprocessing import PolynomialFeatures<br>\n",
    "from sklearn.linear_model import LinearRegression<br>\n",
    "from sklearn.preprocessing import StandardScaler<br>\n",
    "</code>"
   ]
  },
  {
   "attachments": {},
   "cell_type": "markdown",
   "metadata": {},
   "source": [
    "#### Pipeline constructor<br>\n",
    "<code>\n",
    "Input=[('scale',StandardScaler()),('polynomial',PolynomialFeatures(degree=2)),...,('mode',LinearRegression())]<br>\n",
    "</code>\n",
    "\n",
    "Pine constructor:<br>\n",
    "<code>pipe=Pipeline(Input)</code>"
   ]
  },
  {
   "attachments": {},
   "cell_type": "markdown",
   "metadata": {},
   "source": [
    "#### Train the pipeline object<br>\n",
    "<code>\n",
    "pipe.fit(df[['columnName1','columnName2','columnName3','columnName4']],y)\n",
    "yhat=pipe.predict(X[['columnName1','columnName2','columnName3','columnName4']])\n",
    "</code>"
   ]
  },
  {
   "attachments": {},
   "cell_type": "markdown",
   "metadata": {},
   "source": [
    "## Measures for In-Sample Evaluation<br>"
   ]
  },
  {
   "attachments": {},
   "cell_type": "markdown",
   "metadata": {},
   "source": [
    "2 important measures to determine the fit of a model:\n",
    "+ Mean Squared Error (MSE), generally between 0 and 1\n",
    "    + <code>from sklearn.metrics import mean_squared_error<br>\n",
    "    mean_squared_error(df['valueName'], Y_predict_simple_fit)</code>\n",
    "+ R-squared (R^2): The Coefficient of Determination\n",
    "    + <code>R^2 = (1-(MSE of regression line/MSE of the average of the data))</code>"
   ]
  },
  {
   "attachments": {},
   "cell_type": "markdown",
   "metadata": {},
   "source": [
    "## Prediction and Decision Making"
   ]
  },
  {
   "attachments": {},
   "cell_type": "markdown",
   "metadata": {},
   "source": [
    "Determining a Good Model Fit:\n",
    "+ Do the predicted values make sense\n",
    "+ Visualization\n",
    "+ Numerical measures for evaluation\n",
    "+ Comparing Models"
   ]
  },
  {
   "attachments": {},
   "cell_type": "markdown",
   "metadata": {},
   "source": []
  }
 ],
 "metadata": {
  "language_info": {
   "name": "python"
  },
  "orig_nbformat": 4
 },
 "nbformat": 4,
 "nbformat_minor": 2
}
