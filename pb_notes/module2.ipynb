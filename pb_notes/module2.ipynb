{
 "cells": [
  {
   "attachments": {},
   "cell_type": "markdown",
   "metadata": {},
   "source": [
    "# Module 2 Data Wrangling"
   ]
  },
  {
   "attachments": {},
   "cell_type": "markdown",
   "metadata": {},
   "source": [
    "## The pre-processing phase of data analysis\n",
    "\n",
    "Also Known As: Data Cleaning Process\n",
    "Some popular tasks:\n",
    "+ Handling **missing values** in data\n",
    "+ Data Formatting\n",
    "+ Data Normalization (centering/scaling)\n",
    "+ Data Binning: **Grouping** data values into bins\n",
    "+ Converting **categorical variables** into **numerical quantitative variables**"
   ]
  },
  {
   "attachments": {},
   "cell_type": "markdown",
   "metadata": {},
   "source": [
    "### Simple Dataframe Operations\n",
    "+ To access a specific column: df[\"column name\"] (df is the dataframe)\n",
    "+ To manipulate a value to each of entry's column: df[\"column name\"] = df[\"column name\"] + 1 (e.g. add 1)"
   ]
  },
  {
   "attachments": {},
   "cell_type": "markdown",
   "metadata": {},
   "source": [
    "## Dealing with Missing values\n",
    "\n",
    "Missing values are usually represented as \"?\", \"N/A\", 0 or just a blank cell.<br>\n",
    "How to deal:\n",
    "+ 1st Priority: Check the source\n",
    "+ 2nd Priority: Drop the missing values\n",
    "    + Drop the variable\n",
    "    + Drop the data entry\n",
    "+ 3rd Priority: Replace the missing values\n",
    "    + Replace it with an average (of similar datapoints) => numerical variables\n",
    "    + Replace it by frequency => categorical variables\n",
    "    + Replace it based on the other functions\n",
    "+ 4th Priority: Just leave it!"
   ]
  },
  {
   "attachments": {},
   "cell_type": "markdown",
   "metadata": {},
   "source": [
    "### Drop missing values in Python:\n",
    "dataframe.dropna(subset[\"column name\"], axis=number, inplace=True) <br>\n",
    "\n",
    "+ axis=0 drops the entire row, axis=1 drops the entire column\n",
    "+ inplace=True: operation is performed on the orginal object and the result is None;\n",
    "+ implace=False: operation is performed on a copy of the original object and the result is a new object."
   ]
  },
  {
   "attachments": {},
   "cell_type": "markdown",
   "metadata": {},
   "source": [
    "<b>Replace missing values in Python:<br>\n",
    "dataframe.replace(missing_value, new_value)\n",
    "\n",
    "For example: If the missing value is NaN and you would like to replace NaN by average value of that column.\n",
    "+ mean = df[\"column name\"].mean()\n",
    "+ df[\"column name\"].replace(np.nan, mean)"
   ]
  },
  {
   "attachments": {},
   "cell_type": "markdown",
   "metadata": {},
   "source": [
    "## Data Formatting\n",
    "\n",
    "Some popular errors to fix:\n",
    "+ Wrong data type is assigned to a feature\n",
    "+ Incorrect unit of measurement\n",
    "+ Unclear column's name\n",
    "+ Inconsistent in variables displayed of the same meaning\n",
    "\n",
    "Change values of an entire column: df[\"column name\"] = ...<br>\n",
    "Rename column(s): df.rename(columns={\"old name\": \"new name\"}, inplace=True)<br>\n",
    "\n",
    "Correcting data types:\n",
    "+ dataframe.dtypes() to identify data type\n",
    "+ dataframe.astype() to convert data type"
   ]
  },
  {
   "attachments": {},
   "cell_type": "markdown",
   "metadata": {},
   "source": [
    "## Data Normalization\n",
    "\n",
    "Uniform the features value with difference range\n",
    "+ Similar value range => usually from 0 to 1\n",
    "+ Similar intrinsic influence on analytical model (e.g. same scale, same unit of measurement, same bin...)\n",
    "\n",
    "Methods of normalizing data\n",
    "1. Simple feature scaling: x_new = x_old / x_max\n",
    "2. Min-Max: x_new = (x_old - x_min) / (x_max - x_min)\n",
    "3. Z-score: x_new = (x_old - mean) / standard deviation "
   ]
  },
  {
   "attachments": {},
   "cell_type": "markdown",
   "metadata": {},
   "source": [
    "## Data Binning\n",
    "\n",
    "+ Binning: Grouping of values into \"bins\"\n",
    "+ Coverts numeric into categorical variables\n",
    "+ Group a set of numerical values into a set of \"bins\"\n",
    "\n",
    "Take \"price\" as an example:\n",
    "+ bins = np.linspace(min(df[\"price\"]), max(df[\"price\"]), 4)\n",
    "+ group_names = [\"Low\",\"Medium\",\"High\"]\n",
    "+ df[\"price-binned\"] = pd.cut(df[\"price\"], bins, labels=group_names, include_lowest=True)"
   ]
  },
  {
   "attachments": {},
   "cell_type": "markdown",
   "metadata": {},
   "source": [
    "## Turning Categorical variables into quantitative variables\n",
    "\n",
    "#### Problem: most statistical models cannot take in the objects/strings as input"
   ]
  },
  {
   "attachments": {},
   "cell_type": "markdown",
   "metadata": {},
   "source": [
    "### Solution:\n",
    "+ Add dummy variables for each unique category\n",
    "+ Assign 0 or 1 in each category\n",
    "\n",
    "=> One-hot encoding\n",
    "=> pd.get_dummies(df[\"column name\"])"
   ]
  },
  {
   "cell_type": "markdown",
   "metadata": {},
   "source": []
  }
 ],
 "metadata": {
  "kernelspec": {
   "display_name": "Python 3",
   "language": "python",
   "name": "python3"
  },
  "language_info": {
   "codemirror_mode": {
    "name": "ipython",
    "version": 3
   },
   "file_extension": ".py",
   "mimetype": "text/x-python",
   "name": "python",
   "nbconvert_exporter": "python",
   "pygments_lexer": "ipython3",
   "version": "3.10.6"
  },
  "orig_nbformat": 4
 },
 "nbformat": 4,
 "nbformat_minor": 2
}
