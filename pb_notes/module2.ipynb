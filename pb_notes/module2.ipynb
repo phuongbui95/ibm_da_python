{
 "cells": [
  {
   "attachments": {},
   "cell_type": "markdown",
   "metadata": {},
   "source": [
    "**Module 2 Data Wrangling**"
   ]
  },
  {
   "attachments": {},
   "cell_type": "markdown",
   "metadata": {},
   "source": [
    "***This is a pre-processing phase of data analysis***\n",
    "Some popular tasks:\n",
    "+ Handling **missing values** in data\n",
    "+ **Formatting data** to standardize it and make it consistent\n",
    "+ **Normalizing** data\n",
    "+ **Grouping** data values into bins\n",
    "+ Converting **categorical variables** into **numerical quantitative variables**"
   ]
  },
  {
   "cell_type": "markdown",
   "metadata": {},
   "source": []
  }
 ],
 "metadata": {
  "kernelspec": {
   "display_name": "Python 3",
   "language": "python",
   "name": "python3"
  },
  "language_info": {
   "codemirror_mode": {
    "name": "ipython",
    "version": 3
   },
   "file_extension": ".py",
   "mimetype": "text/x-python",
   "name": "python",
   "nbconvert_exporter": "python",
   "pygments_lexer": "ipython3",
   "version": "3.10.6"
  },
  "orig_nbformat": 4
 },
 "nbformat": 4,
 "nbformat_minor": 2
}
