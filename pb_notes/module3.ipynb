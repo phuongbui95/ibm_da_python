{
 "cells": [
  {
   "attachments": {},
   "cell_type": "markdown",
   "metadata": {},
   "source": [
    "# Module 3 - Exploratory Data Analysis (EDA)\n",
    "\n",
    "#### Preliminary step in data analysis to:\n",
    "+ Summarize main characteristics of the data\n",
    "+ Gain better understanding of the data set\n",
    "+ Uncover relationships between variables\n",
    "+ Extract important variables\n",
    "\n",
    "#### Objectives:\n",
    "+ **Descriptive Statistics**: understanding data distribution via mean, median, mode, quartile values...\n",
    "+ **Basic of Grouping**: data groups helps you to visualize the data better\n",
    "+ **ANOVA (Analysis of Variance)**: statistical test used to compare the means of two or more groups.\n",
    "+ **Correlation**: tests to compare continuous numerical variables, tests to find the association between categorical variables."
   ]
  },
  {
   "attachments": {},
   "cell_type": "markdown",
   "metadata": {},
   "source": [
    "## Descriptive Statistics\n",
    "+ Summarize statistics using pandas describe() method: df.describe()\n",
    "+ Summarize the categorical data is by using the value_counts() method\n",
    "+ Visualize numeric data using Box plots: extreme values, median, quartiles, outliers, distribution & skewness of data.\n",
    "+ Visualize continous variables using Scatter Plot:\n",
    "    + Predictor/independent variables on x-axis.\n",
    "    + Target/dependent variables on y-axis."
   ]
  },
  {
   "attachments": {},
   "cell_type": "markdown",
   "metadata": {},
   "source": [
    "## GroupBy\n",
    "+ Groupby()\n",
    "    + Can be applied on categorical variables\n",
    "    + Group data into categories\n",
    "    + Single or multiple variables\n",
    "+ Pivot()\n",
    "    + One variable displayed along the columns and the other variable displaed along the rows\n",
    "+ Heatmap\n",
    "    + Plot target variable over multiple variables\n",
    "        + <code> plt.pcolor(df_pivot, cmap=\"name\") </code>\n",
    "        + <code> plit.colorbar() </code>\n",
    "        + <code> plt.show() </code>"
   ]
  },
  {
   "attachments": {},
   "cell_type": "markdown",
   "metadata": {},
   "source": [
    "### Correlation - Statistics\n",
    "#### Pearson Correlation\n",
    "+ Measure the strenghth of the correlation between two Continuous Variables\n",
    "    + Correlation coefficient\n",
    "    + P-value\n",
    "+ Correlation coefficient\n",
    "    + Close to +1: Large Positive relationship\n",
    "    + Close to -1: Large Negative relationship\n",
    "    + Close to 0: No relationship\n",
    "+ P-value\n",
    "    + P-value < 0.001 **Strong** certainty in the result\n",
    "    + P-value < 0.05 Moderate certainty in the result\n",
    "    + P-value < 0.1 Weak certainty in the result\n",
    "    + P-value > 0.1 No certainty in the result\n",
    "+ Strong Correlation\n",
    "    + Correlation coefficient close to 1 or -1\n",
    "    + P value less than 0.001"
   ]
  },
  {
   "attachments": {},
   "cell_type": "markdown",
   "metadata": {},
   "source": [
    "## Correlation\n",
    "+ Measures to what extent different variables are interdependent\n",
    "+ Correlation does not imply causation"
   ]
  },
  {
   "attachments": {},
   "cell_type": "markdown",
   "metadata": {},
   "source": [
    "#### Chi-square Test for Independence\n",
    "Test how one categorical variable influences the other categorical variable using the distribution of the frequencies within each group:\n",
    "+ The Chi-square tests a null hypothesis that the variables are independent. The test compares the observed data to the values that the model expects if the data was distributed in different categories by chance. Anytime the observed data doesn’t fit within the model of the expected values, the probability that the variables are dependent becomes stronger, thus proving the null hypothesis incorrect.\n",
    "+ The Chi-square does not tell you the type of relationship that exists between both variables only that a relationship exists.\n",
    "\n",
    "Using crosstab in the pandas library to present total values.\n",
    "+ Formula to calculate the expected values: (RowTotal * ColumnTotal) / GrandTotal\n",
    "+ After that, perform the Chi-square test => search Formula<br>\n",
    "=> You can do this in python using the **scipy.stats** package, first we create a cross tab:\n",
    "<code>cont_table = pd.crosstab(df['fuel-type'], df['aspiration'])</code> then we use the <code>chi2_contingency</code> in the <code>scipy.stats</code> library: <code>scipy.stats.chi2_contingency(cont_table, correction = True)</code>\n",
    "This will print out the chi-square statistic, the p-value, the degree of freedom, and the expected values.\n",
    "\n"
   ]
  }
 ],
 "metadata": {
  "language_info": {
   "name": "python"
  },
  "orig_nbformat": 4
 },
 "nbformat": 4,
 "nbformat_minor": 2
}
